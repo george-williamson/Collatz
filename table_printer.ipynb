{
 "cells": [
  {
   "cell_type": "code",
   "execution_count": 53,
   "metadata": {},
   "outputs": [
    {
     "name": "stdout",
     "output_type": "stream",
     "text": [
      "Arsenal Should   Sack \n",
      "   Unai  Emery Before \n",
      "    Its    Too   Late \n",
      "    ...    ...   COYG \n"
     ]
    }
   ],
   "source": [
    "#Allows us to print lists of lists in a nicely tabluted form.\n",
    "\n",
    "import sys\n",
    "\n",
    "def printTable(tableData):\n",
    "    \n",
    "    #check inner lists are of the same length\n",
    "    min = len(tableData[0])\n",
    "    for i in range(1,len(tableData)):\n",
    "        if(len(tableData[i]) != min):\n",
    "            print('Inner lists must be of the same sizes.')\n",
    "            sys.exit()\n",
    "        \n",
    "    \"\"\"Create list that stores the size of the biggest word within\n",
    "    the inner lists of tableData.\"\"\"\n",
    "    colWidths = [0] * len(tableData) \n",
    "    \n",
    "    #determine max values\n",
    "    for i in range(len(tableData)):\n",
    "        max = 0\n",
    "        for j in range(len(tableData[i])):\n",
    "            if(len(tableData[i][j]) > max):\n",
    "                max = len(tableData[i][j])\n",
    "        colWidths[i] = max\n",
    "\n",
    "    #it is assumed each inner list has the same number of elements\n",
    "    for j in range(len(tableData[0])):\n",
    "        for i in range(len(tableData)):\n",
    "            print(tableData[i][j].rjust(colWidths[i]), end=' ')\n",
    "        print()\n",
    "        \n",
    "\n",
    "tableData1 = [['Arsenal', 'Unai', 'Its', '...'],\n",
    "                       ['Should', 'Emery', 'Too', '...'],\n",
    "                       ['Sack', 'Before', 'Late', 'COYG']]\n",
    "        \n",
    "printTable(tableData1)"
   ]
  },
  {
   "cell_type": "code",
   "execution_count": null,
   "metadata": {},
   "outputs": [],
   "source": []
  },
  {
   "cell_type": "code",
   "execution_count": null,
   "metadata": {},
   "outputs": [],
   "source": []
  }
 ],
 "metadata": {
  "kernelspec": {
   "display_name": "Python 3",
   "language": "python",
   "name": "python3"
  },
  "language_info": {
   "codemirror_mode": {
    "name": "ipython",
    "version": 3
   },
   "file_extension": ".py",
   "mimetype": "text/x-python",
   "name": "python",
   "nbconvert_exporter": "python",
   "pygments_lexer": "ipython3",
   "version": "3.7.3"
  }
 },
 "nbformat": 4,
 "nbformat_minor": 2
}
