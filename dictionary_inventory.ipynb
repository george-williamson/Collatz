{
 "cells": [
  {
   "cell_type": "code",
   "execution_count": 56,
   "metadata": {},
   "outputs": [
    {
     "name": "stdout",
     "output_type": "stream",
     "text": [
      "***Inventory***\n",
      "\n",
      "gold coin: 45\n",
      "rope: 1\n",
      "dagger: 1\n",
      "ruby: 1\n",
      "Total number of items: 48\n"
     ]
    }
   ],
   "source": [
    "def displayInventory(inventory):\n",
    "    print('***Inventory***')\n",
    "    print()\n",
    "    total = 0\n",
    "    \n",
    "    for k, v in inventory.items():\n",
    "        print(str(k) + ': ' + str(v))\n",
    "        total += int(v)\n",
    "    \n",
    "    print('Total number of items: ' + str(total))\n",
    "\n",
    "\n",
    "def addToInventory(inventory, addedItems):\n",
    "    \n",
    "    for k in addedItems:\n",
    "        if(k.isspace() == True):\n",
    "            continue\n",
    "        else:    \n",
    "            inventory.setdefault(k,0)\n",
    "            inventory[k] = inventory[k] + 1        \n",
    "\n",
    "\n",
    "inv = {'gold coin': 42, 'rope': 1}\n",
    "dragonLoot = ['gold coin', 'dagger', 'gold coin', 'gold coin', 'ruby']\n",
    "\n",
    "addToInventory(inv, dragonLoot)\n",
    "displayInventory(inv)\n",
    "\n",
    "\n",
    "\n",
    "    \n",
    "    "
   ]
  },
  {
   "cell_type": "code",
   "execution_count": null,
   "metadata": {},
   "outputs": [],
   "source": []
  },
  {
   "cell_type": "code",
   "execution_count": null,
   "metadata": {},
   "outputs": [],
   "source": []
  }
 ],
 "metadata": {
  "kernelspec": {
   "display_name": "Python 3",
   "language": "python",
   "name": "python3"
  },
  "language_info": {
   "codemirror_mode": {
    "name": "ipython",
    "version": 3
   },
   "file_extension": ".py",
   "mimetype": "text/x-python",
   "name": "python",
   "nbconvert_exporter": "python",
   "pygments_lexer": "ipython3",
   "version": "3.7.3"
  }
 },
 "nbformat": 4,
 "nbformat_minor": 2
}
